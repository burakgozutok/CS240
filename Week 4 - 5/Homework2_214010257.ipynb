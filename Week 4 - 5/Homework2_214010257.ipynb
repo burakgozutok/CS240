{
 "cells": [
  {
   "cell_type": "code",
   "execution_count": 2,
   "metadata": {
    "collapsed": false
   },
   "outputs": [],
   "source": [
    "from __future__ import print_function, division\n",
    "\n",
    "%matplotlib inline\n",
    "\n",
    "import numpy as np\n",
    "\n",
    "import nsfg\n",
    "import first\n",
    "\n",
    "import thinkplot\n",
    "import thinkstats2"
   ]
  },
  {
   "cell_type": "code",
   "execution_count": 3,
   "metadata": {
    "collapsed": true
   },
   "outputs": [],
   "source": [
    "pres = nsfg.ReadFemResp() "
   ]
  },
  {
   "cell_type": "code",
   "execution_count": 4,
   "metadata": {
    "collapsed": false
   },
   "outputs": [
    {
     "data": {
      "text/plain": [
       "9.0       1\n",
       "11.0      2\n",
       "12.0      1\n",
       "13.0      3\n",
       "14.0     18\n",
       "15.0     50\n",
       "16.0    115\n",
       "17.0    173\n",
       "18.0    342\n",
       "19.0    328\n",
       "20.0    353\n",
       "21.0    364\n",
       "22.0    381\n",
       "23.0    359\n",
       "24.0    285\n",
       "25.0    261\n",
       "26.0    233\n",
       "27.0    177\n",
       "28.0    150\n",
       "29.0    129\n",
       "30.0     97\n",
       "31.0     72\n",
       "32.0     52\n",
       "33.0     49\n",
       "34.0     29\n",
       "35.0     35\n",
       "36.0     14\n",
       "37.0     14\n",
       "38.0     10\n",
       "39.0     10\n",
       "40.0      7\n",
       "41.0      6\n",
       "42.0      3\n",
       "43.0      3\n",
       "Name: fmar1age, dtype: int64"
      ]
     },
     "execution_count": 4,
     "metadata": {},
     "output_type": "execute_result"
    }
   ],
   "source": [
    "#1st question: \n",
    "fmar1age = pres['fmar1age'] #select frm1age\n",
    "agefrequencies = thinkstats2.Hist(fmar1age) #finding frequencies for each age\n",
    "pres.fmar1age.value_counts().sort_index() #printing values with sorted by age"
   ]
  },
  {
   "cell_type": "code",
   "execution_count": 5,
   "metadata": {
    "collapsed": false
   },
   "outputs": [
    {
     "data": {
      "image/png": "[encoded data removed]",
      "text/plain": [
       "<matplotlib.figure.Figure at 0x1d47af1ea58>"
      ]
     },
     "metadata": {},
     "output_type": "display_data"
    }
   ],
   "source": [
    "#1st question continue, plotting the histogram\n",
    "thinkplot.Hist(agefrequencies, label='Age of respondents at first marriage') \n",
    "thinkplot.Config(xlabel='Ages', ylabel='Number of Frequency')"
   ]
  },
  {
   "cell_type": "code",
   "execution_count": 6,
   "metadata": {
    "collapsed": false
   },
   "outputs": [
    {
     "data": {
      "text/plain": [
       "0    3517\n",
       "1    3436\n",
       "2     582\n",
       "3      90\n",
       "4      15\n",
       "5       3\n",
       "Name: fmarno, dtype: int64"
      ]
     },
     "execution_count": 6,
     "metadata": {},
     "output_type": "execute_result"
    }
   ],
   "source": [
    "#2nd question: \n",
    "fmarno = pres['fmarno'] #select fmarno \n",
    "marriagenum_freq = thinkstats2.Hist(fmarno) #finding frequencies for each number of marriage\n",
    "pres.fmarno.value_counts().sort_index() #printing values with sorted by number of marriage"
   ]
  },
  {
   "cell_type": "code",
   "execution_count": 7,
   "metadata": {
    "collapsed": false
   },
   "outputs": [
    {
     "data": {
      "image/png": "[encoded data removed]",
      "text/plain": [
       "<matplotlib.figure.Figure at 0x1d47df172b0>"
      ]
     },
     "metadata": {},
     "output_type": "display_data"
    }
   ],
   "source": [
    "#2nd question next part, plotting the histogram\n",
    "thinkplot.Hist(marriagenum_freq, label='Number of mariage that done by respondents') \n",
    "thinkplot.Config(xlabel='Marriage number', ylabel='Number of Frequency')"
   ]
  },
  {
   "cell_type": "code",
   "execution_count": 8,
   "metadata": {
    "collapsed": false
   },
   "outputs": [
    {
     "data": {
      "text/plain": [
       "1      299\n",
       "2      301\n",
       "3      266\n",
       "4      421\n",
       "5      445\n",
       "6      559\n",
       "7      583\n",
       "8      606\n",
       "9      607\n",
       "10     468\n",
       "11     647\n",
       "12     658\n",
       "13     623\n",
       "14    1160\n",
       "Name: totincr, dtype: int64"
      ]
     },
     "execution_count": 8,
     "metadata": {},
     "output_type": "execute_result"
    }
   ],
   "source": [
    "#3rd question: \n",
    "totincr = pres['totincr'] #select totincr \n",
    "freq_3rd = thinkstats2.Hist(totincr) #finding frequencies for each income range\n",
    "pres.totincr.value_counts().sort_index() #printing values with sorted by income level"
   ]
  },
  {
   "cell_type": "code",
   "execution_count": 9,
   "metadata": {
    "collapsed": false
   },
   "outputs": [
    {
     "data": {
      "image/png": "[encoded data removed]",
      "text/plain": [
       "<matplotlib.figure.Figure at 0x1d47ae50b38>"
      ]
     },
     "metadata": {},
     "output_type": "display_data"
    }
   ],
   "source": [
    "#3rd question next part, plotting the histogram\n",
    "thinkplot.Hist(freq_3rd, label='Income range of respondents') \n",
    "thinkplot.Config(xlabel='Income Range', ylabel='Number of Frequency')"
   ]
  },
  {
   "cell_type": "code",
   "execution_count": 10,
   "metadata": {
    "collapsed": false
   },
   "outputs": [],
   "source": [
    "#4th question: \n",
    "\n",
    "neverMarried = pres[pres.fmarno == 0]\n",
    "married = pres[pres.fmarno >= 1]\n",
    "\n",
    "freq_4th_married = thinkstats2.Hist(married.totincr, label='married')\n",
    "freq_4th_nevermarried = thinkstats2.Hist(neverMarried.totincr, label='never married')"
   ]
  },
  {
   "cell_type": "code",
   "execution_count": 11,
   "metadata": {
    "collapsed": false
   },
   "outputs": [
    {
     "data": {
      "image/png": "[encoded data removed]",
      "text/plain": [
       "<matplotlib.figure.Figure at 0x1d47af1e240>"
      ]
     },
     "metadata": {},
     "output_type": "display_data"
    }
   ],
   "source": [
    "width = 0.45\n",
    "thinkplot.PrePlot(2)\n",
    "thinkplot.Hist(freq_4th_married, align='right', width=width)\n",
    "thinkplot.Hist(freq_4th_nevermarried, align='left', width=width)\n",
    "thinkplot.Config(xlabel='Income Range', ylabel='Number of frequency')\n"
   ]
  },
  {
   "cell_type": "code",
   "execution_count": 12,
   "metadata": {
    "collapsed": false
   },
   "outputs": [],
   "source": [
    "namelist = [\"\",\"UNDER $5000\",\"$5000-$7499\",\"$7500-$9999\",\"$10,000-$12,499\",\"$12,500-$14,999\",\"$15,000-$19,999\",\"$20,000-$24,999\",\"$25,000-$29,999\",\"$30,000-$34,999\",\"$35,000-$39,999\",\"$40,000-$49,999\",\"$50,000-$59,000\",\"$60,000-$74,999\",\"$75,000 OR MORE\"]"
   ]
  },
  {
   "cell_type": "code",
   "execution_count": 13,
   "metadata": {
    "collapsed": false
   },
   "outputs": [
    {
     "data": {
      "text/plain": [
       "'For MARRIED people MINIMUM income range is: 1 which refers to UNDER $5000'"
      ]
     },
     "execution_count": 13,
     "metadata": {},
     "output_type": "execute_result"
    }
   ],
   "source": [
    "minval = min(married.totincr)\n",
    "\"For MARRIED people MINIMUM income range is: %d which refers to %s\" % (minval, namelist[minval])"
   ]
  },
  {
   "cell_type": "code",
   "execution_count": 14,
   "metadata": {
    "collapsed": false
   },
   "outputs": [
    {
     "data": {
      "text/plain": [
       "'For MARRIED people MAXIMUM income range is: 14 which refers to $75,000 OR MORE'"
      ]
     },
     "execution_count": 14,
     "metadata": {},
     "output_type": "execute_result"
    }
   ],
   "source": [
    "maxval = max(married.totincr)\n",
    "\"For MARRIED people MAXIMUM income range is: %d which refers to %s\" % (maxval, namelist[maxval])"
   ]
  },
  {
   "cell_type": "code",
   "execution_count": 15,
   "metadata": {
    "collapsed": false
   },
   "outputs": [
    {
     "data": {
      "text/plain": [
       "'For MARRIED people STANDART DEVIATION is: 3.714652'"
      ]
     },
     "execution_count": 15,
     "metadata": {},
     "output_type": "execute_result"
    }
   ],
   "source": [
    "\"For MARRIED people STANDART DEVIATION is: %f\" % married.totincr.std()"
   ]
  },
  {
   "cell_type": "code",
   "execution_count": 16,
   "metadata": {
    "collapsed": false
   },
   "outputs": [
    {
     "data": {
      "text/plain": [
       "'For MARRIED people VARIANCE is: 13.798643'"
      ]
     },
     "execution_count": 16,
     "metadata": {},
     "output_type": "execute_result"
    }
   ],
   "source": [
    "\"For MARRIED people VARIANCE is: %f\" % married.totincr.var()"
   ]
  },
  {
   "cell_type": "code",
   "execution_count": 17,
   "metadata": {
    "collapsed": false
   },
   "outputs": [
    {
     "data": {
      "text/plain": [
       "'For MARRIED people MEAN is: 9.495153'"
      ]
     },
     "execution_count": 17,
     "metadata": {},
     "output_type": "execute_result"
    }
   ],
   "source": [
    "\"For MARRIED people MEAN is: %f\" % married.totincr.mean()"
   ]
  },
  {
   "cell_type": "code",
   "execution_count": 18,
   "metadata": {
    "collapsed": false
   },
   "outputs": [
    {
     "data": {
      "text/plain": [
       "'For NEVER MARRIED people MINIMUM income range is: 1 which refers to UNDER $5000'"
      ]
     },
     "execution_count": 18,
     "metadata": {},
     "output_type": "execute_result"
    }
   ],
   "source": [
    "minval = min(neverMarried.totincr)\n",
    "\"For NEVER MARRIED people MINIMUM income range is: %d which refers to %s\" % (minval, namelist[minval])"
   ]
  },
  {
   "cell_type": "code",
   "execution_count": 19,
   "metadata": {
    "collapsed": false
   },
   "outputs": [
    {
     "data": {
      "text/plain": [
       "'For NEVER MARRIED people MAXIMUM income range is: 14 which refers to $75,000 OR MORE'"
      ]
     },
     "execution_count": 19,
     "metadata": {},
     "output_type": "execute_result"
    }
   ],
   "source": [
    "maxval = max(neverMarried.totincr)\n",
    "\"For NEVER MARRIED people MAXIMUM income range is: %d which refers to %s\" % (maxval, namelist[maxval])"
   ]
  },
  {
   "cell_type": "code",
   "execution_count": 20,
   "metadata": {
    "collapsed": false
   },
   "outputs": [
    {
     "data": {
      "text/plain": [
       "'For NEVER MARRIED people STANDART DEVIATION is: 3.980809'"
      ]
     },
     "execution_count": 20,
     "metadata": {},
     "output_type": "execute_result"
    }
   ],
   "source": [
    "\"For NEVER MARRIED people STANDART DEVIATION is: %f\" % neverMarried.totincr.std()"
   ]
  },
  {
   "cell_type": "code",
   "execution_count": 23,
   "metadata": {
    "collapsed": false
   },
   "outputs": [
    {
     "data": {
      "text/plain": [
       "'For NEVER MARRIED people VARIANCE is: 15.846839'"
      ]
     },
     "execution_count": 23,
     "metadata": {},
     "output_type": "execute_result"
    }
   ],
   "source": [
    "\"For NEVER MARRIED people VARIANCE is: %f\" % neverMarried.totincr.var()"
   ]
  },
  {
   "cell_type": "code",
   "execution_count": 24,
   "metadata": {
    "collapsed": false
   },
   "outputs": [
    {
     "data": {
      "text/plain": [
       "'For NEVER MARRIED people MEAN is: 8.020756'"
      ]
     },
     "execution_count": 24,
     "metadata": {},
     "output_type": "execute_result"
    }
   ],
   "source": [
    "\"For NEVER MARRIED people MEAN is: %f\" % neverMarried.totincr.mean()"
   ]
  },
  {
   "cell_type": "code",
   "execution_count": null,
   "metadata": {
    "collapsed": true
   },
   "outputs": [],
   "source": []
  }
 ],
 "metadata": {
  "kernelspec": {
   "display_name": "Python 3",
   "language": "python",
   "name": "python3"
  },
  "language_info": {
   "codemirror_mode": {
    "name": "ipython",
    "version": 3
   },
   "file_extension": ".py",
   "mimetype": "text/x-python",
   "name": "python",
   "nbconvert_exporter": "python",
   "pygments_lexer": "ipython3",
   "version": "3.6.0"
  }
 },
 "nbformat": 4,
 "nbformat_minor": 2
}
